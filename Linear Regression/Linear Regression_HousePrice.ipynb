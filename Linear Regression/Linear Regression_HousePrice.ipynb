{
 "cells": [
  {
   "cell_type": "code",
   "execution_count": 1,
   "id": "489d60f1-f052-4791-9e00-426846e3f7c7",
   "metadata": {},
   "outputs": [],
   "source": [
    "import numpy as np\n",
    "import pandas as pd\n",
    "import matplotlib.pyplot as plt\n",
    "import seaborn as sns\n",
    "\n",
    "from sklearn.preprocessing import LabelEncoder\n",
    "from sklearn.impute import SimpleImputer\n",
    "from sklearn.linear_model import LinearRegression\n",
    "from sklearn.metrics import mean_absolute_error,mean_squared_error\n",
    "from sklearn.model_selection import train_test_split\n"
   ]
  },
  {
   "cell_type": "code",
   "execution_count": 2,
   "id": "485bfc10-3432-4207-8cee-58b84a7940b3",
   "metadata": {},
   "outputs": [
    {
     "data": {
      "text/html": [
       "<div>\n",
       "<style scoped>\n",
       "    .dataframe tbody tr th:only-of-type {\n",
       "        vertical-align: middle;\n",
       "    }\n",
       "\n",
       "    .dataframe tbody tr th {\n",
       "        vertical-align: top;\n",
       "    }\n",
       "\n",
       "    .dataframe thead th {\n",
       "        text-align: right;\n",
       "    }\n",
       "</style>\n",
       "<table border=\"1\" class=\"dataframe\">\n",
       "  <thead>\n",
       "    <tr style=\"text-align: right;\">\n",
       "      <th></th>\n",
       "      <th>price</th>\n",
       "      <th>crime_rate</th>\n",
       "      <th>resid_area</th>\n",
       "      <th>air_qual</th>\n",
       "      <th>room_num</th>\n",
       "      <th>age</th>\n",
       "      <th>dist1</th>\n",
       "      <th>dist2</th>\n",
       "      <th>dist3</th>\n",
       "      <th>dist4</th>\n",
       "      <th>teachers</th>\n",
       "      <th>poor_prop</th>\n",
       "      <th>airport</th>\n",
       "      <th>n_hos_beds</th>\n",
       "      <th>n_hot_rooms</th>\n",
       "      <th>waterbody</th>\n",
       "      <th>rainfall</th>\n",
       "      <th>bus_ter</th>\n",
       "      <th>parks</th>\n",
       "    </tr>\n",
       "  </thead>\n",
       "  <tbody>\n",
       "    <tr>\n",
       "      <th>0</th>\n",
       "      <td>24.0</td>\n",
       "      <td>0.00632</td>\n",
       "      <td>32.31</td>\n",
       "      <td>0.538</td>\n",
       "      <td>6.575</td>\n",
       "      <td>65.2</td>\n",
       "      <td>4.35</td>\n",
       "      <td>3.81</td>\n",
       "      <td>4.18</td>\n",
       "      <td>4.01</td>\n",
       "      <td>24.7</td>\n",
       "      <td>4.98</td>\n",
       "      <td>YES</td>\n",
       "      <td>5.480</td>\n",
       "      <td>11.1920</td>\n",
       "      <td>River</td>\n",
       "      <td>23</td>\n",
       "      <td>YES</td>\n",
       "      <td>0.049347</td>\n",
       "    </tr>\n",
       "    <tr>\n",
       "      <th>1</th>\n",
       "      <td>21.6</td>\n",
       "      <td>0.02731</td>\n",
       "      <td>37.07</td>\n",
       "      <td>0.469</td>\n",
       "      <td>6.421</td>\n",
       "      <td>78.9</td>\n",
       "      <td>4.99</td>\n",
       "      <td>4.70</td>\n",
       "      <td>5.12</td>\n",
       "      <td>5.06</td>\n",
       "      <td>22.2</td>\n",
       "      <td>9.14</td>\n",
       "      <td>NO</td>\n",
       "      <td>7.332</td>\n",
       "      <td>12.1728</td>\n",
       "      <td>Lake</td>\n",
       "      <td>42</td>\n",
       "      <td>YES</td>\n",
       "      <td>0.046146</td>\n",
       "    </tr>\n",
       "    <tr>\n",
       "      <th>2</th>\n",
       "      <td>34.7</td>\n",
       "      <td>0.02729</td>\n",
       "      <td>37.07</td>\n",
       "      <td>0.469</td>\n",
       "      <td>7.185</td>\n",
       "      <td>61.1</td>\n",
       "      <td>5.03</td>\n",
       "      <td>4.86</td>\n",
       "      <td>5.01</td>\n",
       "      <td>4.97</td>\n",
       "      <td>22.2</td>\n",
       "      <td>4.03</td>\n",
       "      <td>NO</td>\n",
       "      <td>7.394</td>\n",
       "      <td>101.1200</td>\n",
       "      <td>NaN</td>\n",
       "      <td>38</td>\n",
       "      <td>YES</td>\n",
       "      <td>0.045764</td>\n",
       "    </tr>\n",
       "    <tr>\n",
       "      <th>3</th>\n",
       "      <td>33.4</td>\n",
       "      <td>0.03237</td>\n",
       "      <td>32.18</td>\n",
       "      <td>0.458</td>\n",
       "      <td>6.998</td>\n",
       "      <td>45.8</td>\n",
       "      <td>6.21</td>\n",
       "      <td>5.93</td>\n",
       "      <td>6.16</td>\n",
       "      <td>5.96</td>\n",
       "      <td>21.3</td>\n",
       "      <td>2.94</td>\n",
       "      <td>YES</td>\n",
       "      <td>9.268</td>\n",
       "      <td>11.2672</td>\n",
       "      <td>Lake</td>\n",
       "      <td>45</td>\n",
       "      <td>YES</td>\n",
       "      <td>0.047151</td>\n",
       "    </tr>\n",
       "    <tr>\n",
       "      <th>4</th>\n",
       "      <td>36.2</td>\n",
       "      <td>0.06905</td>\n",
       "      <td>32.18</td>\n",
       "      <td>0.458</td>\n",
       "      <td>7.147</td>\n",
       "      <td>54.2</td>\n",
       "      <td>6.16</td>\n",
       "      <td>5.86</td>\n",
       "      <td>6.37</td>\n",
       "      <td>5.86</td>\n",
       "      <td>21.3</td>\n",
       "      <td>5.33</td>\n",
       "      <td>NO</td>\n",
       "      <td>8.824</td>\n",
       "      <td>11.2896</td>\n",
       "      <td>Lake</td>\n",
       "      <td>55</td>\n",
       "      <td>YES</td>\n",
       "      <td>0.039474</td>\n",
       "    </tr>\n",
       "    <tr>\n",
       "      <th>...</th>\n",
       "      <td>...</td>\n",
       "      <td>...</td>\n",
       "      <td>...</td>\n",
       "      <td>...</td>\n",
       "      <td>...</td>\n",
       "      <td>...</td>\n",
       "      <td>...</td>\n",
       "      <td>...</td>\n",
       "      <td>...</td>\n",
       "      <td>...</td>\n",
       "      <td>...</td>\n",
       "      <td>...</td>\n",
       "      <td>...</td>\n",
       "      <td>...</td>\n",
       "      <td>...</td>\n",
       "      <td>...</td>\n",
       "      <td>...</td>\n",
       "      <td>...</td>\n",
       "      <td>...</td>\n",
       "    </tr>\n",
       "    <tr>\n",
       "      <th>501</th>\n",
       "      <td>22.4</td>\n",
       "      <td>0.06263</td>\n",
       "      <td>41.93</td>\n",
       "      <td>0.573</td>\n",
       "      <td>6.593</td>\n",
       "      <td>69.1</td>\n",
       "      <td>2.64</td>\n",
       "      <td>2.45</td>\n",
       "      <td>2.76</td>\n",
       "      <td>2.06</td>\n",
       "      <td>19.0</td>\n",
       "      <td>9.67</td>\n",
       "      <td>NO</td>\n",
       "      <td>9.348</td>\n",
       "      <td>12.1792</td>\n",
       "      <td>Lake and River</td>\n",
       "      <td>27</td>\n",
       "      <td>YES</td>\n",
       "      <td>0.056006</td>\n",
       "    </tr>\n",
       "    <tr>\n",
       "      <th>502</th>\n",
       "      <td>20.6</td>\n",
       "      <td>0.04527</td>\n",
       "      <td>41.93</td>\n",
       "      <td>0.573</td>\n",
       "      <td>6.120</td>\n",
       "      <td>76.7</td>\n",
       "      <td>2.44</td>\n",
       "      <td>2.11</td>\n",
       "      <td>2.46</td>\n",
       "      <td>2.14</td>\n",
       "      <td>19.0</td>\n",
       "      <td>9.08</td>\n",
       "      <td>YES</td>\n",
       "      <td>6.612</td>\n",
       "      <td>13.1648</td>\n",
       "      <td>Lake and River</td>\n",
       "      <td>20</td>\n",
       "      <td>YES</td>\n",
       "      <td>0.059903</td>\n",
       "    </tr>\n",
       "    <tr>\n",
       "      <th>503</th>\n",
       "      <td>23.9</td>\n",
       "      <td>0.06076</td>\n",
       "      <td>41.93</td>\n",
       "      <td>0.573</td>\n",
       "      <td>6.976</td>\n",
       "      <td>91.0</td>\n",
       "      <td>2.34</td>\n",
       "      <td>2.06</td>\n",
       "      <td>2.29</td>\n",
       "      <td>1.98</td>\n",
       "      <td>19.0</td>\n",
       "      <td>5.64</td>\n",
       "      <td>NO</td>\n",
       "      <td>5.478</td>\n",
       "      <td>12.1912</td>\n",
       "      <td>NaN</td>\n",
       "      <td>31</td>\n",
       "      <td>YES</td>\n",
       "      <td>0.057572</td>\n",
       "    </tr>\n",
       "    <tr>\n",
       "      <th>504</th>\n",
       "      <td>22.0</td>\n",
       "      <td>0.10959</td>\n",
       "      <td>41.93</td>\n",
       "      <td>0.573</td>\n",
       "      <td>6.794</td>\n",
       "      <td>89.3</td>\n",
       "      <td>2.54</td>\n",
       "      <td>2.31</td>\n",
       "      <td>2.40</td>\n",
       "      <td>2.31</td>\n",
       "      <td>19.0</td>\n",
       "      <td>6.48</td>\n",
       "      <td>YES</td>\n",
       "      <td>7.940</td>\n",
       "      <td>15.1760</td>\n",
       "      <td>NaN</td>\n",
       "      <td>47</td>\n",
       "      <td>YES</td>\n",
       "      <td>0.060694</td>\n",
       "    </tr>\n",
       "    <tr>\n",
       "      <th>505</th>\n",
       "      <td>19.0</td>\n",
       "      <td>0.04741</td>\n",
       "      <td>41.93</td>\n",
       "      <td>0.573</td>\n",
       "      <td>6.030</td>\n",
       "      <td>80.8</td>\n",
       "      <td>2.72</td>\n",
       "      <td>2.24</td>\n",
       "      <td>2.64</td>\n",
       "      <td>2.42</td>\n",
       "      <td>19.0</td>\n",
       "      <td>7.88</td>\n",
       "      <td>YES</td>\n",
       "      <td>10.280</td>\n",
       "      <td>10.1520</td>\n",
       "      <td>NaN</td>\n",
       "      <td>45</td>\n",
       "      <td>YES</td>\n",
       "      <td>0.060336</td>\n",
       "    </tr>\n",
       "  </tbody>\n",
       "</table>\n",
       "<p>506 rows × 19 columns</p>\n",
       "</div>"
      ],
      "text/plain": [
       "     price  crime_rate  resid_area  air_qual  room_num   age  dist1  dist2  \\\n",
       "0     24.0     0.00632       32.31     0.538     6.575  65.2   4.35   3.81   \n",
       "1     21.6     0.02731       37.07     0.469     6.421  78.9   4.99   4.70   \n",
       "2     34.7     0.02729       37.07     0.469     7.185  61.1   5.03   4.86   \n",
       "3     33.4     0.03237       32.18     0.458     6.998  45.8   6.21   5.93   \n",
       "4     36.2     0.06905       32.18     0.458     7.147  54.2   6.16   5.86   \n",
       "..     ...         ...         ...       ...       ...   ...    ...    ...   \n",
       "501   22.4     0.06263       41.93     0.573     6.593  69.1   2.64   2.45   \n",
       "502   20.6     0.04527       41.93     0.573     6.120  76.7   2.44   2.11   \n",
       "503   23.9     0.06076       41.93     0.573     6.976  91.0   2.34   2.06   \n",
       "504   22.0     0.10959       41.93     0.573     6.794  89.3   2.54   2.31   \n",
       "505   19.0     0.04741       41.93     0.573     6.030  80.8   2.72   2.24   \n",
       "\n",
       "     dist3  dist4  teachers  poor_prop airport  n_hos_beds  n_hot_rooms  \\\n",
       "0     4.18   4.01      24.7       4.98     YES       5.480      11.1920   \n",
       "1     5.12   5.06      22.2       9.14      NO       7.332      12.1728   \n",
       "2     5.01   4.97      22.2       4.03      NO       7.394     101.1200   \n",
       "3     6.16   5.96      21.3       2.94     YES       9.268      11.2672   \n",
       "4     6.37   5.86      21.3       5.33      NO       8.824      11.2896   \n",
       "..     ...    ...       ...        ...     ...         ...          ...   \n",
       "501   2.76   2.06      19.0       9.67      NO       9.348      12.1792   \n",
       "502   2.46   2.14      19.0       9.08     YES       6.612      13.1648   \n",
       "503   2.29   1.98      19.0       5.64      NO       5.478      12.1912   \n",
       "504   2.40   2.31      19.0       6.48     YES       7.940      15.1760   \n",
       "505   2.64   2.42      19.0       7.88     YES      10.280      10.1520   \n",
       "\n",
       "          waterbody  rainfall bus_ter     parks  \n",
       "0             River        23     YES  0.049347  \n",
       "1              Lake        42     YES  0.046146  \n",
       "2               NaN        38     YES  0.045764  \n",
       "3              Lake        45     YES  0.047151  \n",
       "4              Lake        55     YES  0.039474  \n",
       "..              ...       ...     ...       ...  \n",
       "501  Lake and River        27     YES  0.056006  \n",
       "502  Lake and River        20     YES  0.059903  \n",
       "503             NaN        31     YES  0.057572  \n",
       "504             NaN        47     YES  0.060694  \n",
       "505             NaN        45     YES  0.060336  \n",
       "\n",
       "[506 rows x 19 columns]"
      ]
     },
     "execution_count": 2,
     "metadata": {},
     "output_type": "execute_result"
    }
   ],
   "source": [
    "data=pd.read_csv(\"House_Price.csv\")\n",
    "data"
   ]
  },
  {
   "cell_type": "code",
   "execution_count": 3,
   "id": "46dfd1fd-5d33-4db2-80a8-229c42c699b9",
   "metadata": {},
   "outputs": [
    {
     "data": {
      "text/plain": [
       "Index(['price', 'crime_rate', 'resid_area', 'air_qual', 'room_num', 'age',\n",
       "       'dist1', 'dist2', 'dist3', 'dist4', 'teachers', 'poor_prop', 'airport',\n",
       "       'n_hos_beds', 'n_hot_rooms', 'waterbody', 'rainfall', 'bus_ter',\n",
       "       'parks'],\n",
       "      dtype='object')"
      ]
     },
     "execution_count": 3,
     "metadata": {},
     "output_type": "execute_result"
    }
   ],
   "source": [
    "data.columns"
   ]
  },
  {
   "cell_type": "code",
   "execution_count": 4,
   "id": "883319bd-d774-4466-98ee-3757516e04a1",
   "metadata": {},
   "outputs": [
    {
     "data": {
      "text/plain": [
       "0"
      ]
     },
     "execution_count": 4,
     "metadata": {},
     "output_type": "execute_result"
    }
   ],
   "source": [
    "data.duplicated().sum()"
   ]
  },
  {
   "cell_type": "code",
   "execution_count": 5,
   "id": "5b4f8fbd-debb-4015-a538-3ca95aa57880",
   "metadata": {},
   "outputs": [
    {
     "data": {
      "text/plain": [
       "price            0\n",
       "crime_rate       0\n",
       "resid_area       0\n",
       "air_qual         0\n",
       "room_num         0\n",
       "age              0\n",
       "dist1            0\n",
       "dist2            0\n",
       "dist3            0\n",
       "dist4            0\n",
       "teachers         0\n",
       "poor_prop        0\n",
       "airport          0\n",
       "n_hos_beds       8\n",
       "n_hot_rooms      0\n",
       "waterbody      155\n",
       "rainfall         0\n",
       "bus_ter          0\n",
       "parks            0\n",
       "dtype: int64"
      ]
     },
     "execution_count": 5,
     "metadata": {},
     "output_type": "execute_result"
    }
   ],
   "source": [
    "data.isnull().sum()"
   ]
  },
  {
   "cell_type": "code",
   "execution_count": 6,
   "id": "be2802c6-b4f9-4c3d-a6b1-a4d1468aa319",
   "metadata": {},
   "outputs": [
    {
     "data": {
      "text/plain": [
       "price          float64\n",
       "crime_rate     float64\n",
       "resid_area     float64\n",
       "air_qual       float64\n",
       "room_num       float64\n",
       "age            float64\n",
       "dist1          float64\n",
       "dist2          float64\n",
       "dist3          float64\n",
       "dist4          float64\n",
       "teachers       float64\n",
       "poor_prop      float64\n",
       "airport         object\n",
       "n_hos_beds     float64\n",
       "n_hot_rooms    float64\n",
       "waterbody       object\n",
       "rainfall         int64\n",
       "bus_ter         object\n",
       "parks          float64\n",
       "dtype: object"
      ]
     },
     "execution_count": 6,
     "metadata": {},
     "output_type": "execute_result"
    }
   ],
   "source": [
    "data.dtypes"
   ]
  },
  {
   "cell_type": "code",
   "execution_count": 7,
   "id": "22d63e4a-38bd-49dd-adf2-d714cd39b416",
   "metadata": {},
   "outputs": [],
   "source": [
    "waterbody=LabelEncoder()\n",
    "data[\"waterbody\"]=waterbody.fit_transform(data[\"waterbody\"])\n",
    "airport=LabelEncoder()\n",
    "data[\"airport\"]=airport.fit_transform(data[\"airport\"])\n",
    "bus=LabelEncoder()\n",
    "data[\"bus_ter\"]=bus.fit_transform(data[\"bus_ter\"])"
   ]
  },
  {
   "cell_type": "code",
   "execution_count": 8,
   "id": "46873102-ddd0-4c66-9879-9470b9db313b",
   "metadata": {},
   "outputs": [],
   "source": [
    "imputer=SimpleImputer(strategy=\"most_frequent\")\n",
    "data[\"n_hos_beds\"]=imputer.fit_transform(data[[\"n_hos_beds\"]])\n",
    "imputer1=SimpleImputer(strategy=\"most_frequent\")\n",
    "data[\"waterbody\"]=imputer1.fit_transform(data[[\"waterbody\"]])"
   ]
  },
  {
   "cell_type": "code",
   "execution_count": 9,
   "id": "067bd6ce-a742-47db-ba4a-1cf1cee12f56",
   "metadata": {},
   "outputs": [
    {
     "data": {
      "text/plain": [
       "price          0\n",
       "crime_rate     0\n",
       "resid_area     0\n",
       "air_qual       0\n",
       "room_num       0\n",
       "age            0\n",
       "dist1          0\n",
       "dist2          0\n",
       "dist3          0\n",
       "dist4          0\n",
       "teachers       0\n",
       "poor_prop      0\n",
       "airport        0\n",
       "n_hos_beds     0\n",
       "n_hot_rooms    0\n",
       "waterbody      0\n",
       "rainfall       0\n",
       "bus_ter        0\n",
       "parks          0\n",
       "dtype: int64"
      ]
     },
     "execution_count": 9,
     "metadata": {},
     "output_type": "execute_result"
    }
   ],
   "source": [
    "data.isnull().sum()"
   ]
  },
  {
   "cell_type": "code",
   "execution_count": 10,
   "id": "59d7aaa7-b691-41ee-ad72-42e344db4f6b",
   "metadata": {},
   "outputs": [
    {
     "data": {
      "text/html": [
       "<div>\n",
       "<style scoped>\n",
       "    .dataframe tbody tr th:only-of-type {\n",
       "        vertical-align: middle;\n",
       "    }\n",
       "\n",
       "    .dataframe tbody tr th {\n",
       "        vertical-align: top;\n",
       "    }\n",
       "\n",
       "    .dataframe thead th {\n",
       "        text-align: right;\n",
       "    }\n",
       "</style>\n",
       "<table border=\"1\" class=\"dataframe\">\n",
       "  <thead>\n",
       "    <tr style=\"text-align: right;\">\n",
       "      <th></th>\n",
       "      <th>price</th>\n",
       "      <th>crime_rate</th>\n",
       "      <th>resid_area</th>\n",
       "      <th>air_qual</th>\n",
       "      <th>room_num</th>\n",
       "      <th>age</th>\n",
       "      <th>dist1</th>\n",
       "      <th>dist2</th>\n",
       "      <th>dist3</th>\n",
       "      <th>dist4</th>\n",
       "      <th>teachers</th>\n",
       "      <th>poor_prop</th>\n",
       "      <th>airport</th>\n",
       "      <th>n_hos_beds</th>\n",
       "      <th>n_hot_rooms</th>\n",
       "      <th>waterbody</th>\n",
       "      <th>rainfall</th>\n",
       "      <th>bus_ter</th>\n",
       "      <th>parks</th>\n",
       "    </tr>\n",
       "  </thead>\n",
       "  <tbody>\n",
       "    <tr>\n",
       "      <th>0</th>\n",
       "      <td>24.0</td>\n",
       "      <td>0.00632</td>\n",
       "      <td>32.31</td>\n",
       "      <td>0.538</td>\n",
       "      <td>6.575</td>\n",
       "      <td>65.2</td>\n",
       "      <td>4.35</td>\n",
       "      <td>3.81</td>\n",
       "      <td>4.18</td>\n",
       "      <td>4.01</td>\n",
       "      <td>24.7</td>\n",
       "      <td>4.98</td>\n",
       "      <td>1</td>\n",
       "      <td>5.480</td>\n",
       "      <td>11.1920</td>\n",
       "      <td>2</td>\n",
       "      <td>23</td>\n",
       "      <td>0</td>\n",
       "      <td>0.049347</td>\n",
       "    </tr>\n",
       "    <tr>\n",
       "      <th>1</th>\n",
       "      <td>21.6</td>\n",
       "      <td>0.02731</td>\n",
       "      <td>37.07</td>\n",
       "      <td>0.469</td>\n",
       "      <td>6.421</td>\n",
       "      <td>78.9</td>\n",
       "      <td>4.99</td>\n",
       "      <td>4.70</td>\n",
       "      <td>5.12</td>\n",
       "      <td>5.06</td>\n",
       "      <td>22.2</td>\n",
       "      <td>9.14</td>\n",
       "      <td>0</td>\n",
       "      <td>7.332</td>\n",
       "      <td>12.1728</td>\n",
       "      <td>0</td>\n",
       "      <td>42</td>\n",
       "      <td>0</td>\n",
       "      <td>0.046146</td>\n",
       "    </tr>\n",
       "    <tr>\n",
       "      <th>2</th>\n",
       "      <td>34.7</td>\n",
       "      <td>0.02729</td>\n",
       "      <td>37.07</td>\n",
       "      <td>0.469</td>\n",
       "      <td>7.185</td>\n",
       "      <td>61.1</td>\n",
       "      <td>5.03</td>\n",
       "      <td>4.86</td>\n",
       "      <td>5.01</td>\n",
       "      <td>4.97</td>\n",
       "      <td>22.2</td>\n",
       "      <td>4.03</td>\n",
       "      <td>0</td>\n",
       "      <td>7.394</td>\n",
       "      <td>101.1200</td>\n",
       "      <td>3</td>\n",
       "      <td>38</td>\n",
       "      <td>0</td>\n",
       "      <td>0.045764</td>\n",
       "    </tr>\n",
       "    <tr>\n",
       "      <th>3</th>\n",
       "      <td>33.4</td>\n",
       "      <td>0.03237</td>\n",
       "      <td>32.18</td>\n",
       "      <td>0.458</td>\n",
       "      <td>6.998</td>\n",
       "      <td>45.8</td>\n",
       "      <td>6.21</td>\n",
       "      <td>5.93</td>\n",
       "      <td>6.16</td>\n",
       "      <td>5.96</td>\n",
       "      <td>21.3</td>\n",
       "      <td>2.94</td>\n",
       "      <td>1</td>\n",
       "      <td>9.268</td>\n",
       "      <td>11.2672</td>\n",
       "      <td>0</td>\n",
       "      <td>45</td>\n",
       "      <td>0</td>\n",
       "      <td>0.047151</td>\n",
       "    </tr>\n",
       "    <tr>\n",
       "      <th>4</th>\n",
       "      <td>36.2</td>\n",
       "      <td>0.06905</td>\n",
       "      <td>32.18</td>\n",
       "      <td>0.458</td>\n",
       "      <td>7.147</td>\n",
       "      <td>54.2</td>\n",
       "      <td>6.16</td>\n",
       "      <td>5.86</td>\n",
       "      <td>6.37</td>\n",
       "      <td>5.86</td>\n",
       "      <td>21.3</td>\n",
       "      <td>5.33</td>\n",
       "      <td>0</td>\n",
       "      <td>8.824</td>\n",
       "      <td>11.2896</td>\n",
       "      <td>0</td>\n",
       "      <td>55</td>\n",
       "      <td>0</td>\n",
       "      <td>0.039474</td>\n",
       "    </tr>\n",
       "  </tbody>\n",
       "</table>\n",
       "</div>"
      ],
      "text/plain": [
       "   price  crime_rate  resid_area  air_qual  room_num   age  dist1  dist2  \\\n",
       "0   24.0     0.00632       32.31     0.538     6.575  65.2   4.35   3.81   \n",
       "1   21.6     0.02731       37.07     0.469     6.421  78.9   4.99   4.70   \n",
       "2   34.7     0.02729       37.07     0.469     7.185  61.1   5.03   4.86   \n",
       "3   33.4     0.03237       32.18     0.458     6.998  45.8   6.21   5.93   \n",
       "4   36.2     0.06905       32.18     0.458     7.147  54.2   6.16   5.86   \n",
       "\n",
       "   dist3  dist4  teachers  poor_prop  airport  n_hos_beds  n_hot_rooms  \\\n",
       "0   4.18   4.01      24.7       4.98        1       5.480      11.1920   \n",
       "1   5.12   5.06      22.2       9.14        0       7.332      12.1728   \n",
       "2   5.01   4.97      22.2       4.03        0       7.394     101.1200   \n",
       "3   6.16   5.96      21.3       2.94        1       9.268      11.2672   \n",
       "4   6.37   5.86      21.3       5.33        0       8.824      11.2896   \n",
       "\n",
       "   waterbody  rainfall  bus_ter     parks  \n",
       "0          2        23        0  0.049347  \n",
       "1          0        42        0  0.046146  \n",
       "2          3        38        0  0.045764  \n",
       "3          0        45        0  0.047151  \n",
       "4          0        55        0  0.039474  "
      ]
     },
     "execution_count": 10,
     "metadata": {},
     "output_type": "execute_result"
    }
   ],
   "source": [
    "data.head()"
   ]
  },
  {
   "cell_type": "code",
   "execution_count": 11,
   "id": "ea0b71de-c562-4379-a59c-8a2614822c91",
   "metadata": {},
   "outputs": [
    {
     "data": {
      "text/html": [
       "<div>\n",
       "<style scoped>\n",
       "    .dataframe tbody tr th:only-of-type {\n",
       "        vertical-align: middle;\n",
       "    }\n",
       "\n",
       "    .dataframe tbody tr th {\n",
       "        vertical-align: top;\n",
       "    }\n",
       "\n",
       "    .dataframe thead th {\n",
       "        text-align: right;\n",
       "    }\n",
       "</style>\n",
       "<table border=\"1\" class=\"dataframe\">\n",
       "  <thead>\n",
       "    <tr style=\"text-align: right;\">\n",
       "      <th></th>\n",
       "      <th>price</th>\n",
       "      <th>crime_rate</th>\n",
       "      <th>resid_area</th>\n",
       "      <th>air_qual</th>\n",
       "      <th>room_num</th>\n",
       "      <th>age</th>\n",
       "      <th>dist1</th>\n",
       "      <th>dist2</th>\n",
       "      <th>dist3</th>\n",
       "      <th>dist4</th>\n",
       "      <th>teachers</th>\n",
       "      <th>poor_prop</th>\n",
       "      <th>airport</th>\n",
       "      <th>n_hos_beds</th>\n",
       "      <th>n_hot_rooms</th>\n",
       "      <th>waterbody</th>\n",
       "      <th>rainfall</th>\n",
       "      <th>bus_ter</th>\n",
       "      <th>parks</th>\n",
       "    </tr>\n",
       "  </thead>\n",
       "  <tbody>\n",
       "    <tr>\n",
       "      <th>price</th>\n",
       "      <td>1.000000</td>\n",
       "      <td>-0.389582</td>\n",
       "      <td>-0.484754</td>\n",
       "      <td>-0.429300</td>\n",
       "      <td>0.696304</td>\n",
       "      <td>-0.377999</td>\n",
       "      <td>0.251355</td>\n",
       "      <td>0.249459</td>\n",
       "      <td>0.246650</td>\n",
       "      <td>0.248200</td>\n",
       "      <td>0.505655</td>\n",
       "      <td>-0.740836</td>\n",
       "      <td>0.182867</td>\n",
       "      <td>0.114401</td>\n",
       "      <td>0.023122</td>\n",
       "      <td>-0.047427</td>\n",
       "      <td>-0.047426</td>\n",
       "      <td>NaN</td>\n",
       "      <td>-0.391574</td>\n",
       "    </tr>\n",
       "    <tr>\n",
       "      <th>crime_rate</th>\n",
       "      <td>-0.389582</td>\n",
       "      <td>1.000000</td>\n",
       "      <td>0.406583</td>\n",
       "      <td>0.420972</td>\n",
       "      <td>-0.219247</td>\n",
       "      <td>0.352734</td>\n",
       "      <td>-0.380050</td>\n",
       "      <td>-0.379813</td>\n",
       "      <td>-0.380069</td>\n",
       "      <td>-0.376462</td>\n",
       "      <td>-0.289946</td>\n",
       "      <td>0.455621</td>\n",
       "      <td>-0.086805</td>\n",
       "      <td>0.013477</td>\n",
       "      <td>0.013518</td>\n",
       "      <td>0.046666</td>\n",
       "      <td>0.059204</td>\n",
       "      <td>NaN</td>\n",
       "      <td>0.383235</td>\n",
       "    </tr>\n",
       "    <tr>\n",
       "      <th>resid_area</th>\n",
       "      <td>-0.484754</td>\n",
       "      <td>0.406583</td>\n",
       "      <td>1.000000</td>\n",
       "      <td>0.763651</td>\n",
       "      <td>-0.391676</td>\n",
       "      <td>0.644779</td>\n",
       "      <td>-0.706481</td>\n",
       "      <td>-0.707956</td>\n",
       "      <td>-0.707566</td>\n",
       "      <td>-0.705819</td>\n",
       "      <td>-0.383248</td>\n",
       "      <td>0.603800</td>\n",
       "      <td>-0.115401</td>\n",
       "      <td>0.003804</td>\n",
       "      <td>-0.000839</td>\n",
       "      <td>0.039892</td>\n",
       "      <td>0.055810</td>\n",
       "      <td>NaN</td>\n",
       "      <td>0.707635</td>\n",
       "    </tr>\n",
       "    <tr>\n",
       "      <th>air_qual</th>\n",
       "      <td>-0.429300</td>\n",
       "      <td>0.420972</td>\n",
       "      <td>0.763651</td>\n",
       "      <td>1.000000</td>\n",
       "      <td>-0.302188</td>\n",
       "      <td>0.731470</td>\n",
       "      <td>-0.768589</td>\n",
       "      <td>-0.769724</td>\n",
       "      <td>-0.769157</td>\n",
       "      <td>-0.764873</td>\n",
       "      <td>-0.188933</td>\n",
       "      <td>0.590879</td>\n",
       "      <td>-0.073903</td>\n",
       "      <td>-0.058043</td>\n",
       "      <td>-0.004882</td>\n",
       "      <td>0.058631</td>\n",
       "      <td>0.092104</td>\n",
       "      <td>NaN</td>\n",
       "      <td>0.915544</td>\n",
       "    </tr>\n",
       "    <tr>\n",
       "      <th>room_num</th>\n",
       "      <td>0.696304</td>\n",
       "      <td>-0.219247</td>\n",
       "      <td>-0.391676</td>\n",
       "      <td>-0.302188</td>\n",
       "      <td>1.000000</td>\n",
       "      <td>-0.240265</td>\n",
       "      <td>0.208464</td>\n",
       "      <td>0.203981</td>\n",
       "      <td>0.201907</td>\n",
       "      <td>0.205397</td>\n",
       "      <td>0.355501</td>\n",
       "      <td>-0.613808</td>\n",
       "      <td>0.163774</td>\n",
       "      <td>0.036656</td>\n",
       "      <td>0.030674</td>\n",
       "      <td>-0.022780</td>\n",
       "      <td>-0.064694</td>\n",
       "      <td>NaN</td>\n",
       "      <td>-0.282817</td>\n",
       "    </tr>\n",
       "    <tr>\n",
       "      <th>age</th>\n",
       "      <td>-0.377999</td>\n",
       "      <td>0.352734</td>\n",
       "      <td>0.644779</td>\n",
       "      <td>0.731470</td>\n",
       "      <td>-0.240265</td>\n",
       "      <td>1.000000</td>\n",
       "      <td>-0.746904</td>\n",
       "      <td>-0.746493</td>\n",
       "      <td>-0.747021</td>\n",
       "      <td>-0.746707</td>\n",
       "      <td>-0.261515</td>\n",
       "      <td>0.602339</td>\n",
       "      <td>0.005101</td>\n",
       "      <td>-0.025785</td>\n",
       "      <td>0.009380</td>\n",
       "      <td>0.038451</td>\n",
       "      <td>0.075198</td>\n",
       "      <td>NaN</td>\n",
       "      <td>0.673850</td>\n",
       "    </tr>\n",
       "    <tr>\n",
       "      <th>dist1</th>\n",
       "      <td>0.251355</td>\n",
       "      <td>-0.380050</td>\n",
       "      <td>-0.706481</td>\n",
       "      <td>-0.768589</td>\n",
       "      <td>0.208464</td>\n",
       "      <td>-0.746904</td>\n",
       "      <td>1.000000</td>\n",
       "      <td>0.997905</td>\n",
       "      <td>0.997735</td>\n",
       "      <td>0.994073</td>\n",
       "      <td>0.232834</td>\n",
       "      <td>-0.498823</td>\n",
       "      <td>0.025208</td>\n",
       "      <td>-0.021914</td>\n",
       "      <td>-0.014463</td>\n",
       "      <td>-0.037202</td>\n",
       "      <td>-0.036794</td>\n",
       "      <td>NaN</td>\n",
       "      <td>-0.706319</td>\n",
       "    </tr>\n",
       "    <tr>\n",
       "      <th>dist2</th>\n",
       "      <td>0.249459</td>\n",
       "      <td>-0.379813</td>\n",
       "      <td>-0.707956</td>\n",
       "      <td>-0.769724</td>\n",
       "      <td>0.203981</td>\n",
       "      <td>-0.746493</td>\n",
       "      <td>0.997905</td>\n",
       "      <td>1.000000</td>\n",
       "      <td>0.998097</td>\n",
       "      <td>0.994003</td>\n",
       "      <td>0.233707</td>\n",
       "      <td>-0.495693</td>\n",
       "      <td>0.020056</td>\n",
       "      <td>-0.022617</td>\n",
       "      <td>-0.010239</td>\n",
       "      <td>-0.040706</td>\n",
       "      <td>-0.038005</td>\n",
       "      <td>NaN</td>\n",
       "      <td>-0.708237</td>\n",
       "    </tr>\n",
       "    <tr>\n",
       "      <th>dist3</th>\n",
       "      <td>0.246650</td>\n",
       "      <td>-0.380069</td>\n",
       "      <td>-0.707566</td>\n",
       "      <td>-0.769157</td>\n",
       "      <td>0.201907</td>\n",
       "      <td>-0.747021</td>\n",
       "      <td>0.997735</td>\n",
       "      <td>0.998097</td>\n",
       "      <td>1.000000</td>\n",
       "      <td>0.994126</td>\n",
       "      <td>0.233588</td>\n",
       "      <td>-0.494290</td>\n",
       "      <td>0.020195</td>\n",
       "      <td>-0.020239</td>\n",
       "      <td>-0.010077</td>\n",
       "      <td>-0.036750</td>\n",
       "      <td>-0.041470</td>\n",
       "      <td>NaN</td>\n",
       "      <td>-0.709346</td>\n",
       "    </tr>\n",
       "    <tr>\n",
       "      <th>dist4</th>\n",
       "      <td>0.248200</td>\n",
       "      <td>-0.376462</td>\n",
       "      <td>-0.705819</td>\n",
       "      <td>-0.764873</td>\n",
       "      <td>0.205397</td>\n",
       "      <td>-0.746707</td>\n",
       "      <td>0.994073</td>\n",
       "      <td>0.994003</td>\n",
       "      <td>0.994126</td>\n",
       "      <td>1.000000</td>\n",
       "      <td>0.228256</td>\n",
       "      <td>-0.496084</td>\n",
       "      <td>0.020022</td>\n",
       "      <td>-0.014225</td>\n",
       "      <td>-0.005850</td>\n",
       "      <td>-0.040276</td>\n",
       "      <td>-0.032542</td>\n",
       "      <td>NaN</td>\n",
       "      <td>-0.703508</td>\n",
       "    </tr>\n",
       "    <tr>\n",
       "      <th>teachers</th>\n",
       "      <td>0.505655</td>\n",
       "      <td>-0.289946</td>\n",
       "      <td>-0.383248</td>\n",
       "      <td>-0.188933</td>\n",
       "      <td>0.355501</td>\n",
       "      <td>-0.261515</td>\n",
       "      <td>0.232834</td>\n",
       "      <td>0.233707</td>\n",
       "      <td>0.233588</td>\n",
       "      <td>0.228256</td>\n",
       "      <td>1.000000</td>\n",
       "      <td>-0.374044</td>\n",
       "      <td>0.069437</td>\n",
       "      <td>-0.009906</td>\n",
       "      <td>-0.023343</td>\n",
       "      <td>-0.064992</td>\n",
       "      <td>-0.045836</td>\n",
       "      <td>NaN</td>\n",
       "      <td>-0.187004</td>\n",
       "    </tr>\n",
       "    <tr>\n",
       "      <th>poor_prop</th>\n",
       "      <td>-0.740836</td>\n",
       "      <td>0.455621</td>\n",
       "      <td>0.603800</td>\n",
       "      <td>0.590879</td>\n",
       "      <td>-0.613808</td>\n",
       "      <td>0.602339</td>\n",
       "      <td>-0.498823</td>\n",
       "      <td>-0.495693</td>\n",
       "      <td>-0.494290</td>\n",
       "      <td>-0.496084</td>\n",
       "      <td>-0.374044</td>\n",
       "      <td>1.000000</td>\n",
       "      <td>-0.095054</td>\n",
       "      <td>-0.074824</td>\n",
       "      <td>0.003337</td>\n",
       "      <td>0.031739</td>\n",
       "      <td>0.061581</td>\n",
       "      <td>NaN</td>\n",
       "      <td>0.552310</td>\n",
       "    </tr>\n",
       "    <tr>\n",
       "      <th>airport</th>\n",
       "      <td>0.182867</td>\n",
       "      <td>-0.086805</td>\n",
       "      <td>-0.115401</td>\n",
       "      <td>-0.073903</td>\n",
       "      <td>0.163774</td>\n",
       "      <td>0.005101</td>\n",
       "      <td>0.025208</td>\n",
       "      <td>0.020056</td>\n",
       "      <td>0.020195</td>\n",
       "      <td>0.020022</td>\n",
       "      <td>0.069437</td>\n",
       "      <td>-0.095054</td>\n",
       "      <td>1.000000</td>\n",
       "      <td>-0.014504</td>\n",
       "      <td>-0.066012</td>\n",
       "      <td>-0.001280</td>\n",
       "      <td>-0.013581</td>\n",
       "      <td>NaN</td>\n",
       "      <td>-0.052503</td>\n",
       "    </tr>\n",
       "    <tr>\n",
       "      <th>n_hos_beds</th>\n",
       "      <td>0.114401</td>\n",
       "      <td>0.013477</td>\n",
       "      <td>0.003804</td>\n",
       "      <td>-0.058043</td>\n",
       "      <td>0.036656</td>\n",
       "      <td>-0.025785</td>\n",
       "      <td>-0.021914</td>\n",
       "      <td>-0.022617</td>\n",
       "      <td>-0.020239</td>\n",
       "      <td>-0.014225</td>\n",
       "      <td>-0.009906</td>\n",
       "      <td>-0.074824</td>\n",
       "      <td>-0.014504</td>\n",
       "      <td>1.000000</td>\n",
       "      <td>-0.003863</td>\n",
       "      <td>-0.040662</td>\n",
       "      <td>0.070502</td>\n",
       "      <td>NaN</td>\n",
       "      <td>-0.081457</td>\n",
       "    </tr>\n",
       "    <tr>\n",
       "      <th>n_hot_rooms</th>\n",
       "      <td>0.023122</td>\n",
       "      <td>0.013518</td>\n",
       "      <td>-0.000839</td>\n",
       "      <td>-0.004882</td>\n",
       "      <td>0.030674</td>\n",
       "      <td>0.009380</td>\n",
       "      <td>-0.014463</td>\n",
       "      <td>-0.010239</td>\n",
       "      <td>-0.010077</td>\n",
       "      <td>-0.005850</td>\n",
       "      <td>-0.023343</td>\n",
       "      <td>0.003337</td>\n",
       "      <td>-0.066012</td>\n",
       "      <td>-0.003863</td>\n",
       "      <td>1.000000</td>\n",
       "      <td>-0.009907</td>\n",
       "      <td>-0.004840</td>\n",
       "      <td>NaN</td>\n",
       "      <td>0.006262</td>\n",
       "    </tr>\n",
       "    <tr>\n",
       "      <th>waterbody</th>\n",
       "      <td>-0.047427</td>\n",
       "      <td>0.046666</td>\n",
       "      <td>0.039892</td>\n",
       "      <td>0.058631</td>\n",
       "      <td>-0.022780</td>\n",
       "      <td>0.038451</td>\n",
       "      <td>-0.037202</td>\n",
       "      <td>-0.040706</td>\n",
       "      <td>-0.036750</td>\n",
       "      <td>-0.040276</td>\n",
       "      <td>-0.064992</td>\n",
       "      <td>0.031739</td>\n",
       "      <td>-0.001280</td>\n",
       "      <td>-0.040662</td>\n",
       "      <td>-0.009907</td>\n",
       "      <td>1.000000</td>\n",
       "      <td>-0.036597</td>\n",
       "      <td>NaN</td>\n",
       "      <td>0.051473</td>\n",
       "    </tr>\n",
       "    <tr>\n",
       "      <th>rainfall</th>\n",
       "      <td>-0.047426</td>\n",
       "      <td>0.059204</td>\n",
       "      <td>0.055810</td>\n",
       "      <td>0.092104</td>\n",
       "      <td>-0.064694</td>\n",
       "      <td>0.075198</td>\n",
       "      <td>-0.036794</td>\n",
       "      <td>-0.038005</td>\n",
       "      <td>-0.041470</td>\n",
       "      <td>-0.032542</td>\n",
       "      <td>-0.045836</td>\n",
       "      <td>0.061581</td>\n",
       "      <td>-0.013581</td>\n",
       "      <td>0.070502</td>\n",
       "      <td>-0.004840</td>\n",
       "      <td>-0.036597</td>\n",
       "      <td>1.000000</td>\n",
       "      <td>NaN</td>\n",
       "      <td>0.078641</td>\n",
       "    </tr>\n",
       "    <tr>\n",
       "      <th>bus_ter</th>\n",
       "      <td>NaN</td>\n",
       "      <td>NaN</td>\n",
       "      <td>NaN</td>\n",
       "      <td>NaN</td>\n",
       "      <td>NaN</td>\n",
       "      <td>NaN</td>\n",
       "      <td>NaN</td>\n",
       "      <td>NaN</td>\n",
       "      <td>NaN</td>\n",
       "      <td>NaN</td>\n",
       "      <td>NaN</td>\n",
       "      <td>NaN</td>\n",
       "      <td>NaN</td>\n",
       "      <td>NaN</td>\n",
       "      <td>NaN</td>\n",
       "      <td>NaN</td>\n",
       "      <td>NaN</td>\n",
       "      <td>NaN</td>\n",
       "      <td>NaN</td>\n",
       "    </tr>\n",
       "    <tr>\n",
       "      <th>parks</th>\n",
       "      <td>-0.391574</td>\n",
       "      <td>0.383235</td>\n",
       "      <td>0.707635</td>\n",
       "      <td>0.915544</td>\n",
       "      <td>-0.282817</td>\n",
       "      <td>0.673850</td>\n",
       "      <td>-0.706319</td>\n",
       "      <td>-0.708237</td>\n",
       "      <td>-0.709346</td>\n",
       "      <td>-0.703508</td>\n",
       "      <td>-0.187004</td>\n",
       "      <td>0.552310</td>\n",
       "      <td>-0.052503</td>\n",
       "      <td>-0.081457</td>\n",
       "      <td>0.006262</td>\n",
       "      <td>0.051473</td>\n",
       "      <td>0.078641</td>\n",
       "      <td>NaN</td>\n",
       "      <td>1.000000</td>\n",
       "    </tr>\n",
       "  </tbody>\n",
       "</table>\n",
       "</div>"
      ],
      "text/plain": [
       "                price  crime_rate  resid_area  air_qual  room_num       age  \\\n",
       "price        1.000000   -0.389582   -0.484754 -0.429300  0.696304 -0.377999   \n",
       "crime_rate  -0.389582    1.000000    0.406583  0.420972 -0.219247  0.352734   \n",
       "resid_area  -0.484754    0.406583    1.000000  0.763651 -0.391676  0.644779   \n",
       "air_qual    -0.429300    0.420972    0.763651  1.000000 -0.302188  0.731470   \n",
       "room_num     0.696304   -0.219247   -0.391676 -0.302188  1.000000 -0.240265   \n",
       "age         -0.377999    0.352734    0.644779  0.731470 -0.240265  1.000000   \n",
       "dist1        0.251355   -0.380050   -0.706481 -0.768589  0.208464 -0.746904   \n",
       "dist2        0.249459   -0.379813   -0.707956 -0.769724  0.203981 -0.746493   \n",
       "dist3        0.246650   -0.380069   -0.707566 -0.769157  0.201907 -0.747021   \n",
       "dist4        0.248200   -0.376462   -0.705819 -0.764873  0.205397 -0.746707   \n",
       "teachers     0.505655   -0.289946   -0.383248 -0.188933  0.355501 -0.261515   \n",
       "poor_prop   -0.740836    0.455621    0.603800  0.590879 -0.613808  0.602339   \n",
       "airport      0.182867   -0.086805   -0.115401 -0.073903  0.163774  0.005101   \n",
       "n_hos_beds   0.114401    0.013477    0.003804 -0.058043  0.036656 -0.025785   \n",
       "n_hot_rooms  0.023122    0.013518   -0.000839 -0.004882  0.030674  0.009380   \n",
       "waterbody   -0.047427    0.046666    0.039892  0.058631 -0.022780  0.038451   \n",
       "rainfall    -0.047426    0.059204    0.055810  0.092104 -0.064694  0.075198   \n",
       "bus_ter           NaN         NaN         NaN       NaN       NaN       NaN   \n",
       "parks       -0.391574    0.383235    0.707635  0.915544 -0.282817  0.673850   \n",
       "\n",
       "                dist1     dist2     dist3     dist4  teachers  poor_prop  \\\n",
       "price        0.251355  0.249459  0.246650  0.248200  0.505655  -0.740836   \n",
       "crime_rate  -0.380050 -0.379813 -0.380069 -0.376462 -0.289946   0.455621   \n",
       "resid_area  -0.706481 -0.707956 -0.707566 -0.705819 -0.383248   0.603800   \n",
       "air_qual    -0.768589 -0.769724 -0.769157 -0.764873 -0.188933   0.590879   \n",
       "room_num     0.208464  0.203981  0.201907  0.205397  0.355501  -0.613808   \n",
       "age         -0.746904 -0.746493 -0.747021 -0.746707 -0.261515   0.602339   \n",
       "dist1        1.000000  0.997905  0.997735  0.994073  0.232834  -0.498823   \n",
       "dist2        0.997905  1.000000  0.998097  0.994003  0.233707  -0.495693   \n",
       "dist3        0.997735  0.998097  1.000000  0.994126  0.233588  -0.494290   \n",
       "dist4        0.994073  0.994003  0.994126  1.000000  0.228256  -0.496084   \n",
       "teachers     0.232834  0.233707  0.233588  0.228256  1.000000  -0.374044   \n",
       "poor_prop   -0.498823 -0.495693 -0.494290 -0.496084 -0.374044   1.000000   \n",
       "airport      0.025208  0.020056  0.020195  0.020022  0.069437  -0.095054   \n",
       "n_hos_beds  -0.021914 -0.022617 -0.020239 -0.014225 -0.009906  -0.074824   \n",
       "n_hot_rooms -0.014463 -0.010239 -0.010077 -0.005850 -0.023343   0.003337   \n",
       "waterbody   -0.037202 -0.040706 -0.036750 -0.040276 -0.064992   0.031739   \n",
       "rainfall    -0.036794 -0.038005 -0.041470 -0.032542 -0.045836   0.061581   \n",
       "bus_ter           NaN       NaN       NaN       NaN       NaN        NaN   \n",
       "parks       -0.706319 -0.708237 -0.709346 -0.703508 -0.187004   0.552310   \n",
       "\n",
       "              airport  n_hos_beds  n_hot_rooms  waterbody  rainfall  bus_ter  \\\n",
       "price        0.182867    0.114401     0.023122  -0.047427 -0.047426      NaN   \n",
       "crime_rate  -0.086805    0.013477     0.013518   0.046666  0.059204      NaN   \n",
       "resid_area  -0.115401    0.003804    -0.000839   0.039892  0.055810      NaN   \n",
       "air_qual    -0.073903   -0.058043    -0.004882   0.058631  0.092104      NaN   \n",
       "room_num     0.163774    0.036656     0.030674  -0.022780 -0.064694      NaN   \n",
       "age          0.005101   -0.025785     0.009380   0.038451  0.075198      NaN   \n",
       "dist1        0.025208   -0.021914    -0.014463  -0.037202 -0.036794      NaN   \n",
       "dist2        0.020056   -0.022617    -0.010239  -0.040706 -0.038005      NaN   \n",
       "dist3        0.020195   -0.020239    -0.010077  -0.036750 -0.041470      NaN   \n",
       "dist4        0.020022   -0.014225    -0.005850  -0.040276 -0.032542      NaN   \n",
       "teachers     0.069437   -0.009906    -0.023343  -0.064992 -0.045836      NaN   \n",
       "poor_prop   -0.095054   -0.074824     0.003337   0.031739  0.061581      NaN   \n",
       "airport      1.000000   -0.014504    -0.066012  -0.001280 -0.013581      NaN   \n",
       "n_hos_beds  -0.014504    1.000000    -0.003863  -0.040662  0.070502      NaN   \n",
       "n_hot_rooms -0.066012   -0.003863     1.000000  -0.009907 -0.004840      NaN   \n",
       "waterbody   -0.001280   -0.040662    -0.009907   1.000000 -0.036597      NaN   \n",
       "rainfall    -0.013581    0.070502    -0.004840  -0.036597  1.000000      NaN   \n",
       "bus_ter           NaN         NaN          NaN        NaN       NaN      NaN   \n",
       "parks       -0.052503   -0.081457     0.006262   0.051473  0.078641      NaN   \n",
       "\n",
       "                parks  \n",
       "price       -0.391574  \n",
       "crime_rate   0.383235  \n",
       "resid_area   0.707635  \n",
       "air_qual     0.915544  \n",
       "room_num    -0.282817  \n",
       "age          0.673850  \n",
       "dist1       -0.706319  \n",
       "dist2       -0.708237  \n",
       "dist3       -0.709346  \n",
       "dist4       -0.703508  \n",
       "teachers    -0.187004  \n",
       "poor_prop    0.552310  \n",
       "airport     -0.052503  \n",
       "n_hos_beds  -0.081457  \n",
       "n_hot_rooms  0.006262  \n",
       "waterbody    0.051473  \n",
       "rainfall     0.078641  \n",
       "bus_ter           NaN  \n",
       "parks        1.000000  "
      ]
     },
     "execution_count": 11,
     "metadata": {},
     "output_type": "execute_result"
    }
   ],
   "source": [
    "correlation=data.corr()\n",
    "correlation"
   ]
  },
  {
   "cell_type": "code",
   "execution_count": 12,
   "id": "72d0880c-2a10-4290-8099-a592e27a66cc",
   "metadata": {},
   "outputs": [
    {
     "data": {
      "text/plain": [
       "Index(['price', 'crime_rate', 'resid_area', 'air_qual', 'room_num', 'age',\n",
       "       'dist1', 'dist2', 'dist3', 'dist4', 'teachers', 'poor_prop', 'airport',\n",
       "       'n_hos_beds', 'n_hot_rooms', 'waterbody', 'rainfall', 'bus_ter',\n",
       "       'parks'],\n",
       "      dtype='object')"
      ]
     },
     "execution_count": 12,
     "metadata": {},
     "output_type": "execute_result"
    }
   ],
   "source": [
    "data.columns"
   ]
  },
  {
   "cell_type": "code",
   "execution_count": 13,
   "id": "7b091fe3-5e74-424d-a064-3f3622018dc8",
   "metadata": {},
   "outputs": [
    {
     "data": {
      "text/plain": [
       "{'whiskers': [<matplotlib.lines.Line2D at 0x1c5f1736550>,\n",
       "  <matplotlib.lines.Line2D at 0x1c5f18170d0>],\n",
       " 'caps': [<matplotlib.lines.Line2D at 0x1c5f1817d50>,\n",
       "  <matplotlib.lines.Line2D at 0x1c5f1828ad0>],\n",
       " 'boxes': [<matplotlib.patches.PathPatch at 0x1c5f1815910>],\n",
       " 'medians': [<matplotlib.lines.Line2D at 0x1c5f1829590>],\n",
       " 'fliers': [<matplotlib.lines.Line2D at 0x1c5f182a010>],\n",
       " 'means': []}"
      ]
     },
     "execution_count": 13,
     "metadata": {},
     "output_type": "execute_result"
    },
    {
     "data": {
      "image/png": "[encoded data removed]",
      "text/plain": [
       "<Figure size 640x480 with 1 Axes>"
      ]
     },
     "metadata": {},
     "output_type": "display_data"
    }
   ],
   "source": [
    "plt.boxplot(data[\"crime_rate\"],patch_artist=True)"
   ]
  },
  {
   "cell_type": "code",
   "execution_count": 14,
   "id": "51b40f06-7742-49a6-b034-f977a2e0deab",
   "metadata": {},
   "outputs": [
    {
     "name": "stdout",
     "output_type": "stream",
     "text": [
      "old shape of data (506, 19)\n",
      "3.6770825 0.08204499999999999 3.5950375\n",
      "new shape of data (440, 19)\n"
     ]
    }
   ],
   "source": [
    "print(f\"old shape of data {data.shape}\")\n",
    "Q1=data[\"crime_rate\"].quantile(0.25)\n",
    "Q3=data[\"crime_rate\"].quantile(0.75)\n",
    "IQR=Q3-Q1\n",
    "print(Q3,Q1,IQR)\n",
    "lower=Q1-1.5*IQR\n",
    "upper=Q3+1.5*IQR\n",
    "lower_index=np.where(data[\"crime_rate\"]<=lower)[0]\n",
    "upper_index=np.where(data[\"crime_rate\"]>=upper)[0]\n",
    "data.drop(index=lower_index,inplace=True)\n",
    "data.drop(index=upper_index,inplace=True)\n",
    "print(f\"new shape of data {data.shape}\")"
   ]
  },
  {
   "cell_type": "code",
   "execution_count": 15,
   "id": "0becbd92-8506-4446-b623-ed9b56fe9b6f",
   "metadata": {},
   "outputs": [],
   "source": [
    "data.reset_index(inplace=True)\n",
    "data.drop(\"index\",axis=1,inplace=True)"
   ]
  },
  {
   "cell_type": "code",
   "execution_count": 16,
   "id": "2f49ea13-e9b5-4b8d-9ea5-2aeb4ff60e15",
   "metadata": {},
   "outputs": [
    {
     "data": {
      "text/plain": [
       "{'whiskers': [<matplotlib.lines.Line2D at 0x1c5f18c9b90>,\n",
       "  <matplotlib.lines.Line2D at 0x1c5f18ca650>],\n",
       " 'caps': [<matplotlib.lines.Line2D at 0x1c5f18cb2d0>,\n",
       "  <matplotlib.lines.Line2D at 0x1c5f18cbed0>],\n",
       " 'boxes': [<matplotlib.patches.PathPatch at 0x1c5f1885290>],\n",
       " 'medians': [<matplotlib.lines.Line2D at 0x1c5f18b1810>],\n",
       " 'fliers': [<matplotlib.lines.Line2D at 0x1c5f18e5310>],\n",
       " 'means': []}"
      ]
     },
     "execution_count": 16,
     "metadata": {},
     "output_type": "execute_result"
    },
    {
     "data": {
      "image/png": "[encoded data removed]",
      "text/plain": [
       "<Figure size 640x480 with 1 Axes>"
      ]
     },
     "metadata": {},
     "output_type": "display_data"
    }
   ],
   "source": [
    "plt.boxplot(data[\"resid_area\"],patch_artist=True)"
   ]
  },
  {
   "cell_type": "code",
   "execution_count": 17,
   "id": "5794b3ac-1763-458e-8e03-281c96600a58",
   "metadata": {},
   "outputs": [
    {
     "data": {
      "text/plain": [
       "{'whiskers': [<matplotlib.lines.Line2D at 0x1c5f1932ad0>,\n",
       "  <matplotlib.lines.Line2D at 0x1c5f194c250>],\n",
       " 'caps': [<matplotlib.lines.Line2D at 0x1c5f194ce90>,\n",
       "  <matplotlib.lines.Line2D at 0x1c5f194d990>],\n",
       " 'boxes': [<matplotlib.patches.PathPatch at 0x1c5f1846790>],\n",
       " 'medians': [<matplotlib.lines.Line2D at 0x1c5f194e310>],\n",
       " 'fliers': [<matplotlib.lines.Line2D at 0x1c5f194ee10>],\n",
       " 'means': []}"
      ]
     },
     "execution_count": 17,
     "metadata": {},
     "output_type": "execute_result"
    },
    {
     "data": {
      "image/png": "[encoded data removed]",
      "text/plain": [
       "<Figure size 640x480 with 1 Axes>"
      ]
     },
     "metadata": {},
     "output_type": "display_data"
    }
   ],
   "source": [
    "plt.boxplot(data[\"air_qual\"],patch_artist=True)"
   ]
  },
  {
   "cell_type": "code",
   "execution_count": 18,
   "id": "e06c5a3d-12d9-4d82-8deb-db6ec2943c0f",
   "metadata": {},
   "outputs": [
    {
     "data": {
      "text/plain": [
       "{'whiskers': [<matplotlib.lines.Line2D at 0x1c5f19a2010>,\n",
       "  <matplotlib.lines.Line2D at 0x1c5f19a2c90>],\n",
       " 'caps': [<matplotlib.lines.Line2D at 0x1c5f19a3910>,\n",
       "  <matplotlib.lines.Line2D at 0x1c5f19b0410>],\n",
       " 'boxes': [<matplotlib.patches.PathPatch at 0x1c5f19a1550>],\n",
       " 'medians': [<matplotlib.lines.Line2D at 0x1c5f19b0f90>],\n",
       " 'fliers': [<matplotlib.lines.Line2D at 0x1c5f19b1990>],\n",
       " 'means': []}"
      ]
     },
     "execution_count": 18,
     "metadata": {},
     "output_type": "execute_result"
    },
    {
     "data": {
      "image/png": "[encoded data removed]",
      "text/plain": [
       "<Figure size 640x480 with 1 Axes>"
      ]
     },
     "metadata": {},
     "output_type": "display_data"
    }
   ],
   "source": [
    "plt.boxplot(data[\"room_num\"],patch_artist=True)"
   ]
  },
  {
   "cell_type": "code",
   "execution_count": 19,
   "id": "de356912-61c8-4b10-b9d5-df5aa1fed27f",
   "metadata": {},
   "outputs": [
    {
     "name": "stdout",
     "output_type": "stream",
     "text": [
      "old shape of data (440, 19)\n",
      "6.63675 5.92675 0.71\n",
      "new shape of data (417, 19)\n"
     ]
    }
   ],
   "source": [
    "print(f\"old shape of data {data.shape}\")\n",
    "Q1=data[\"room_num\"].quantile(0.25)\n",
    "Q3=data[\"room_num\"].quantile(0.75)\n",
    "IQR=Q3-Q1\n",
    "print(Q3,Q1,IQR)\n",
    "lower=Q1-1.5*IQR\n",
    "upper=Q3+1.5*IQR\n",
    "lower_index=np.where(data[\"room_num\"]<=lower)[0]\n",
    "upper_index=np.where(data[\"room_num\"]>=upper)[0]\n",
    "data.drop(index=lower_index,inplace=True)\n",
    "data.drop(index=upper_index,inplace=True)\n",
    "print(f\"new shape of data {data.shape}\")"
   ]
  },
  {
   "cell_type": "code",
   "execution_count": 20,
   "id": "d77c826e-b9eb-4448-bdef-f4b70f0baf21",
   "metadata": {},
   "outputs": [],
   "source": [
    "data.reset_index(inplace=True)\n",
    "data.drop(\"index\",axis=1,inplace=True)"
   ]
  },
  {
   "cell_type": "code",
   "execution_count": 21,
   "id": "c9c61900-237e-4033-8740-f941b4b39ade",
   "metadata": {},
   "outputs": [
    {
     "data": {
      "text/plain": [
       "{'whiskers': [<matplotlib.lines.Line2D at 0x1c5f19baad0>,\n",
       "  <matplotlib.lines.Line2D at 0x1c5f2105b50>],\n",
       " 'caps': [<matplotlib.lines.Line2D at 0x1c5f21067d0>,\n",
       "  <matplotlib.lines.Line2D at 0x1c5f21070d0>],\n",
       " 'boxes': [<matplotlib.patches.PathPatch at 0x1c5f19de510>],\n",
       " 'medians': [<matplotlib.lines.Line2D at 0x1c5f2107ad0>],\n",
       " 'fliers': [<matplotlib.lines.Line2D at 0x1c5f2114550>],\n",
       " 'means': []}"
      ]
     },
     "execution_count": 21,
     "metadata": {},
     "output_type": "execute_result"
    },
    {
     "data": {
      "image/png": "[encoded data removed]",
      "text/plain": [
       "<Figure size 640x480 with 1 Axes>"
      ]
     },
     "metadata": {},
     "output_type": "display_data"
    }
   ],
   "source": [
    "plt.boxplot(data[\"age\"],patch_artist=True)"
   ]
  },
  {
   "cell_type": "code",
   "execution_count": 22,
   "id": "37bdce1e-b1d6-4e14-8b2a-9f3eabeb8c58",
   "metadata": {},
   "outputs": [
    {
     "data": {
      "text/plain": [
       "{'whiskers': [<matplotlib.lines.Line2D at 0x1c5f2122050>,\n",
       "  <matplotlib.lines.Line2D at 0x1c5f216e490>],\n",
       " 'caps': [<matplotlib.lines.Line2D at 0x1c5f216f090>,\n",
       "  <matplotlib.lines.Line2D at 0x1c5f216fb50>],\n",
       " 'boxes': [<matplotlib.patches.PathPatch at 0x1c5f2136510>],\n",
       " 'medians': [<matplotlib.lines.Line2D at 0x1c5f2174650>],\n",
       " 'fliers': [<matplotlib.lines.Line2D at 0x1c5f2175150>],\n",
       " 'means': []}"
      ]
     },
     "execution_count": 22,
     "metadata": {},
     "output_type": "execute_result"
    },
    {
     "data": {
      "image/png": "[encoded data removed]",
      "text/plain": [
       "<Figure size 640x480 with 1 Axes>"
      ]
     },
     "metadata": {},
     "output_type": "display_data"
    }
   ],
   "source": [
    "plt.boxplot(data[\"dist1\"],patch_artist=True)"
   ]
  },
  {
   "cell_type": "code",
   "execution_count": 23,
   "id": "24beb85d-14d3-461c-a5eb-097333f42c41",
   "metadata": {},
   "outputs": [
    {
     "data": {
      "text/plain": [
       "{'whiskers': [<matplotlib.lines.Line2D at 0x1c5f31d56d0>,\n",
       "  <matplotlib.lines.Line2D at 0x1c5f31d6190>],\n",
       " 'caps': [<matplotlib.lines.Line2D at 0x1c5f31d6e90>,\n",
       "  <matplotlib.lines.Line2D at 0x1c5f31d79d0>],\n",
       " 'boxes': [<matplotlib.patches.PathPatch at 0x1c5f31d4ed0>],\n",
       " 'medians': [<matplotlib.lines.Line2D at 0x1c5f31dc490>],\n",
       " 'fliers': [<matplotlib.lines.Line2D at 0x1c5f31dce90>],\n",
       " 'means': []}"
      ]
     },
     "execution_count": 23,
     "metadata": {},
     "output_type": "execute_result"
    },
    {
     "data": {
      "image/png": "[encoded data removed]",
      "text/plain": [
       "<Figure size 640x480 with 1 Axes>"
      ]
     },
     "metadata": {},
     "output_type": "display_data"
    }
   ],
   "source": [
    "plt.boxplot(data[\"dist2\"],patch_artist=True)"
   ]
  },
  {
   "cell_type": "code",
   "execution_count": 24,
   "id": "d2f87a01-fadc-4129-ac81-d4bce244ceec",
   "metadata": {},
   "outputs": [
    {
     "data": {
      "text/plain": [
       "{'whiskers': [<matplotlib.lines.Line2D at 0x1c5f31d7810>,\n",
       "  <matplotlib.lines.Line2D at 0x1c5f3231750>],\n",
       " 'caps': [<matplotlib.lines.Line2D at 0x1c5f3232250>,\n",
       "  <matplotlib.lines.Line2D at 0x1c5f3232d90>],\n",
       " 'boxes': [<matplotlib.patches.PathPatch at 0x1c5f3230290>],\n",
       " 'medians': [<matplotlib.lines.Line2D at 0x1c5f32338d0>],\n",
       " 'fliers': [<matplotlib.lines.Line2D at 0x1c5f3240390>],\n",
       " 'means': []}"
      ]
     },
     "execution_count": 24,
     "metadata": {},
     "output_type": "execute_result"
    },
    {
     "data": {
      "image/png": "[encoded data removed]",
      "text/plain": [
       "<Figure size 640x480 with 1 Axes>"
      ]
     },
     "metadata": {},
     "output_type": "display_data"
    }
   ],
   "source": [
    "plt.boxplot(data[\"dist3\"],patch_artist=True)"
   ]
  },
  {
   "cell_type": "code",
   "execution_count": 25,
   "id": "069a5a74-0e93-48d8-9080-8665d7e92d08",
   "metadata": {},
   "outputs": [
    {
     "data": {
      "text/plain": [
       "{'whiskers': [<matplotlib.lines.Line2D at 0x1c5f32ac8d0>,\n",
       "  <matplotlib.lines.Line2D at 0x1c5f32ad490>],\n",
       " 'caps': [<matplotlib.lines.Line2D at 0x1c5f32adfd0>,\n",
       "  <matplotlib.lines.Line2D at 0x1c5f32aeb10>],\n",
       " 'boxes': [<matplotlib.patches.PathPatch at 0x1c5f32a3f10>],\n",
       " 'medians': [<matplotlib.lines.Line2D at 0x1c5f32af4d0>],\n",
       " 'fliers': [<matplotlib.lines.Line2D at 0x1c5f32affd0>],\n",
       " 'means': []}"
      ]
     },
     "execution_count": 25,
     "metadata": {},
     "output_type": "execute_result"
    },
    {
     "data": {
      "image/png": "[encoded data removed]",
      "text/plain": [
       "<Figure size 640x480 with 1 Axes>"
      ]
     },
     "metadata": {},
     "output_type": "display_data"
    }
   ],
   "source": [
    "plt.boxplot(data[\"dist4\"],patch_artist=True)"
   ]
  },
  {
   "cell_type": "code",
   "execution_count": 26,
   "id": "358e45f5-6655-42a2-b941-b0affb8cd3cc",
   "metadata": {},
   "outputs": [
    {
     "data": {
      "text/plain": [
       "{'whiskers': [<matplotlib.lines.Line2D at 0x1c5f213f110>,\n",
       "  <matplotlib.lines.Line2D at 0x1c5f3434a50>],\n",
       " 'caps': [<matplotlib.lines.Line2D at 0x1c5f3435690>,\n",
       "  <matplotlib.lines.Line2D at 0x1c5f3436190>],\n",
       " 'boxes': [<matplotlib.patches.PathPatch at 0x1c5f342b610>],\n",
       " 'medians': [<matplotlib.lines.Line2D at 0x1c5f3436c50>],\n",
       " 'fliers': [<matplotlib.lines.Line2D at 0x1c5f3437650>],\n",
       " 'means': []}"
      ]
     },
     "execution_count": 26,
     "metadata": {},
     "output_type": "execute_result"
    },
    {
     "data": {
      "image/png": "[encoded data removed]",
      "text/plain": [
       "<Figure size 640x480 with 1 Axes>"
      ]
     },
     "metadata": {},
     "output_type": "display_data"
    }
   ],
   "source": [
    "plt.boxplot(data[\"teachers\"],patch_artist=True)"
   ]
  },
  {
   "cell_type": "code",
   "execution_count": 27,
   "id": "c38ab7a8-f03d-4fa6-b129-1712402f3726",
   "metadata": {},
   "outputs": [
    {
     "data": {
      "text/plain": [
       "{'whiskers': [<matplotlib.lines.Line2D at 0x1c5f3499c10>,\n",
       "  <matplotlib.lines.Line2D at 0x1c5f349a750>],\n",
       " 'caps': [<matplotlib.lines.Line2D at 0x1c5f349b350>,\n",
       "  <matplotlib.lines.Line2D at 0x1c5f349be50>],\n",
       " 'boxes': [<matplotlib.patches.PathPatch at 0x1c5f1816510>],\n",
       " 'medians': [<matplotlib.lines.Line2D at 0x1c5f34a87d0>],\n",
       " 'fliers': [<matplotlib.lines.Line2D at 0x1c5f34a9390>],\n",
       " 'means': []}"
      ]
     },
     "execution_count": 27,
     "metadata": {},
     "output_type": "execute_result"
    },
    {
     "data": {
      "image/png": "[encoded data removed]",
      "text/plain": [
       "<Figure size 640x480 with 1 Axes>"
      ]
     },
     "metadata": {},
     "output_type": "display_data"
    }
   ],
   "source": [
    "plt.boxplot(data[\"poor_prop\"],patch_artist=True)"
   ]
  },
  {
   "cell_type": "code",
   "execution_count": 28,
   "id": "96e02588-b7a5-4f9f-8462-78b82ab69818",
   "metadata": {},
   "outputs": [],
   "source": [
    "data.reset_index(inplace=True)\n",
    "data.drop(\"index\",axis=1,inplace=True)"
   ]
  },
  {
   "cell_type": "code",
   "execution_count": 29,
   "id": "cc983ef6-c329-4d32-994f-fbea4d0a7534",
   "metadata": {},
   "outputs": [
    {
     "name": "stdout",
     "output_type": "stream",
     "text": [
      "old shape of data (417, 19)\n",
      "new shape of data (406, 19)\n"
     ]
    }
   ],
   "source": [
    "print(f\"old shape of data {data.shape}\")\n",
    "Q1=data[\"poor_prop\"].quantile(0.25)\n",
    "Q3=data[\"poor_prop\"].quantile(0.75)\n",
    "IQR=Q3-Q1\n",
    "lower=Q1-1.5*IQR\n",
    "upper=Q3+1.5*IQR\n",
    "lower_index=np.where(data[\"poor_prop\"]<=lower)[0]\n",
    "upper_index=np.where(data[\"poor_prop\"]>=upper)[0]\n",
    "data.drop(index=lower_index,inplace=True)\n",
    "data.drop(index=upper_index,inplace=True)\n",
    "print(f\"new shape of data {data.shape}\")"
   ]
  },
  {
   "cell_type": "code",
   "execution_count": 30,
   "id": "8655aaf0-da01-479c-b90c-bc7fa6a03104",
   "metadata": {},
   "outputs": [],
   "source": [
    "data.reset_index(inplace=True)\n",
    "data.drop(\"index\",axis=1,inplace=True)"
   ]
  },
  {
   "cell_type": "code",
   "execution_count": 31,
   "id": "ed3203f6-91ba-48dc-85d2-d63d3409d836",
   "metadata": {},
   "outputs": [
    {
     "data": {
      "text/plain": [
       "{'whiskers': [<matplotlib.lines.Line2D at 0x1c5f3472050>,\n",
       "  <matplotlib.lines.Line2D at 0x1c5f32d9950>],\n",
       " 'caps': [<matplotlib.lines.Line2D at 0x1c5f32da590>,\n",
       "  <matplotlib.lines.Line2D at 0x1c5f32db090>],\n",
       " 'boxes': [<matplotlib.patches.PathPatch at 0x1c5f32d8350>],\n",
       " 'medians': [<matplotlib.lines.Line2D at 0x1c5f32dbad0>],\n",
       " 'fliers': [<matplotlib.lines.Line2D at 0x1c5f32e0550>],\n",
       " 'means': []}"
      ]
     },
     "execution_count": 31,
     "metadata": {},
     "output_type": "execute_result"
    },
    {
     "data": {
      "image/png": "[encoded data removed]",
      "text/plain": [
       "<Figure size 640x480 with 1 Axes>"
      ]
     },
     "metadata": {},
     "output_type": "display_data"
    }
   ],
   "source": [
    "plt.boxplot(data[\"airport\"],patch_artist=True)"
   ]
  },
  {
   "cell_type": "code",
   "execution_count": 32,
   "id": "0514de8e-52dc-4c86-9401-4578bafce25f",
   "metadata": {},
   "outputs": [
    {
     "data": {
      "text/plain": [
       "{'whiskers': [<matplotlib.lines.Line2D at 0x1c5f3334ed0>,\n",
       "  <matplotlib.lines.Line2D at 0x1c5f3335b10>],\n",
       " 'caps': [<matplotlib.lines.Line2D at 0x1c5f3336710>,\n",
       "  <matplotlib.lines.Line2D at 0x1c5f3337190>],\n",
       " 'boxes': [<matplotlib.lines.Line2D at 0x1c5f33342d0>],\n",
       " 'medians': [<matplotlib.lines.Line2D at 0x1c5f3337cd0>],\n",
       " 'fliers': [<matplotlib.lines.Line2D at 0x1c5f3344710>],\n",
       " 'means': []}"
      ]
     },
     "execution_count": 32,
     "metadata": {},
     "output_type": "execute_result"
    },
    {
     "data": {
      "image/png": "[encoded data removed]",
      "text/plain": [
       "<Figure size 640x480 with 1 Axes>"
      ]
     },
     "metadata": {},
     "output_type": "display_data"
    }
   ],
   "source": [
    "plt.boxplot(data[\"n_hos_beds\"])"
   ]
  },
  {
   "cell_type": "code",
   "execution_count": 33,
   "id": "f1a50695-a88a-412b-a302-8356bd7e5f9a",
   "metadata": {},
   "outputs": [
    {
     "data": {
      "text/plain": [
       "{'whiskers': [<matplotlib.lines.Line2D at 0x1c5f339f4d0>,\n",
       "  <matplotlib.lines.Line2D at 0x1c5f33a8190>],\n",
       " 'caps': [<matplotlib.lines.Line2D at 0x1c5f33a8d10>,\n",
       "  <matplotlib.lines.Line2D at 0x1c5f33a9810>],\n",
       " 'boxes': [<matplotlib.lines.Line2D at 0x1c5f339e890>],\n",
       " 'medians': [<matplotlib.lines.Line2D at 0x1c5f33aa2d0>],\n",
       " 'fliers': [<matplotlib.lines.Line2D at 0x1c5f33aadd0>],\n",
       " 'means': []}"
      ]
     },
     "execution_count": 33,
     "metadata": {},
     "output_type": "execute_result"
    },
    {
     "data": {
      "image/png": "[encoded data removed]",
      "text/plain": [
       "<Figure size 640x480 with 1 Axes>"
      ]
     },
     "metadata": {},
     "output_type": "display_data"
    }
   ],
   "source": [
    "plt.boxplot(data[\"n_hot_rooms\"])"
   ]
  },
  {
   "cell_type": "code",
   "execution_count": 34,
   "id": "48b5d6f0-d237-4bf0-ba17-f8449f8bf106",
   "metadata": {},
   "outputs": [
    {
     "data": {
      "text/plain": [
       "{'whiskers': [<matplotlib.lines.Line2D at 0x1c5f35382d0>,\n",
       "  <matplotlib.lines.Line2D at 0x1c5f3538ed0>],\n",
       " 'caps': [<matplotlib.lines.Line2D at 0x1c5f3539a50>,\n",
       "  <matplotlib.lines.Line2D at 0x1c5f353a4d0>],\n",
       " 'boxes': [<matplotlib.lines.Line2D at 0x1c5f352b790>],\n",
       " 'medians': [<matplotlib.lines.Line2D at 0x1c5f353af50>],\n",
       " 'fliers': [<matplotlib.lines.Line2D at 0x1c5f353ba50>],\n",
       " 'means': []}"
      ]
     },
     "execution_count": 34,
     "metadata": {},
     "output_type": "execute_result"
    },
    {
     "data": {
      "image/png": "[encoded data removed]",
      "text/plain": [
       "<Figure size 640x480 with 1 Axes>"
      ]
     },
     "metadata": {},
     "output_type": "display_data"
    }
   ],
   "source": [
    "plt.boxplot(data[\"waterbody\"])"
   ]
  },
  {
   "cell_type": "code",
   "execution_count": 35,
   "id": "4936e0a9-6ab1-463e-9fa3-e8a677a64c9c",
   "metadata": {},
   "outputs": [
    {
     "data": {
      "text/plain": [
       "{'whiskers': [<matplotlib.lines.Line2D at 0x1c5f3590dd0>,\n",
       "  <matplotlib.lines.Line2D at 0x1c5f35a2d50>],\n",
       " 'caps': [<matplotlib.lines.Line2D at 0x1c5f19d6150>,\n",
       "  <matplotlib.lines.Line2D at 0x1c5f35a8290>],\n",
       " 'boxes': [<matplotlib.lines.Line2D at 0x1c5f35a1890>],\n",
       " 'medians': [<matplotlib.lines.Line2D at 0x1c5f35a8c90>],\n",
       " 'fliers': [<matplotlib.lines.Line2D at 0x1c5f35a9650>],\n",
       " 'means': []}"
      ]
     },
     "execution_count": 35,
     "metadata": {},
     "output_type": "execute_result"
    },
    {
     "data": {
      "image/png": "[encoded data removed]",
      "text/plain": [
       "<Figure size 640x480 with 1 Axes>"
      ]
     },
     "metadata": {},
     "output_type": "display_data"
    }
   ],
   "source": [
    "plt.boxplot(data[\"rainfall\"])"
   ]
  },
  {
   "cell_type": "code",
   "execution_count": 36,
   "id": "5b40c994-320f-4145-a724-34c40c2487b3",
   "metadata": {},
   "outputs": [
    {
     "data": {
      "text/plain": [
       "{'whiskers': [<matplotlib.lines.Line2D at 0x1c5f3608f50>,\n",
       "  <matplotlib.lines.Line2D at 0x1c5f3609b10>],\n",
       " 'caps': [<matplotlib.lines.Line2D at 0x1c5f360a6d0>,\n",
       "  <matplotlib.lines.Line2D at 0x1c5f360b1d0>],\n",
       " 'boxes': [<matplotlib.lines.Line2D at 0x1c5f36085d0>],\n",
       " 'medians': [<matplotlib.lines.Line2D at 0x1c5f360bd50>],\n",
       " 'fliers': [<matplotlib.lines.Line2D at 0x1c5f3614810>],\n",
       " 'means': []}"
      ]
     },
     "execution_count": 36,
     "metadata": {},
     "output_type": "execute_result"
    },
    {
     "data": {
      "image/png": "[encoded data removed]",
      "text/plain": [
       "<Figure size 640x480 with 1 Axes>"
      ]
     },
     "metadata": {},
     "output_type": "display_data"
    }
   ],
   "source": [
    "plt.boxplot(data[\"bus_ter\"])"
   ]
  },
  {
   "cell_type": "code",
   "execution_count": 37,
   "id": "bc1ed2fc-5e94-4d38-859a-09fc8ca35700",
   "metadata": {},
   "outputs": [
    {
     "data": {
      "text/plain": [
       "{'whiskers': [<matplotlib.lines.Line2D at 0x1c5f36666d0>,\n",
       "  <matplotlib.lines.Line2D at 0x1c5f3667310>],\n",
       " 'caps': [<matplotlib.lines.Line2D at 0x1c5f3667e10>,\n",
       "  <matplotlib.lines.Line2D at 0x1c5f3668950>],\n",
       " 'boxes': [<matplotlib.lines.Line2D at 0x1c5f3665cd0>],\n",
       " 'medians': [<matplotlib.lines.Line2D at 0x1c5f3669310>],\n",
       " 'fliers': [<matplotlib.lines.Line2D at 0x1c5f3669d90>],\n",
       " 'means': []}"
      ]
     },
     "execution_count": 37,
     "metadata": {},
     "output_type": "execute_result"
    },
    {
     "data": {
      "image/png": "[encoded data removed]",
      "text/plain": [
       "<Figure size 640x480 with 1 Axes>"
      ]
     },
     "metadata": {},
     "output_type": "display_data"
    }
   ],
   "source": [
    "plt.boxplot(data[\"parks\"])"
   ]
  },
  {
   "cell_type": "code",
   "execution_count": 38,
   "id": "fd699365-add4-46db-8bf3-f824b160748d",
   "metadata": {},
   "outputs": [
    {
     "name": "stdout",
     "output_type": "stream",
     "text": [
      "old shape of data (406, 19)\n",
      "new shape of data (396, 19)\n"
     ]
    }
   ],
   "source": [
    "print(f\"old shape of data {data.shape}\")\n",
    "Q1=data[\"parks\"].quantile(0.25)\n",
    "Q3=data[\"parks\"].quantile(0.75)\n",
    "IQR=Q3-Q1\n",
    "lower=Q1-1.5*IQR\n",
    "upper=Q3+1.5*IQR\n",
    "lower_index=np.where(data[\"parks\"]<=lower)[0]\n",
    "upper_index=np.where(data[\"parks\"]>=upper)[0]\n",
    "data.drop(index=lower_index,inplace=True)\n",
    "data.drop(index=upper_index,inplace=True)\n",
    "print(f\"new shape of data {data.shape}\")"
   ]
  },
  {
   "cell_type": "code",
   "execution_count": 39,
   "id": "5998f6c6-8772-40ba-ac13-2260c0c2b03f",
   "metadata": {},
   "outputs": [],
   "source": [
    "data.reset_index(inplace=True)\n",
    "data.drop(\"index\",axis=1,inplace=True)"
   ]
  },
  {
   "cell_type": "code",
   "execution_count": 40,
   "id": "ae52d135-3e73-472f-8424-3697c1930a34",
   "metadata": {},
   "outputs": [],
   "source": [
    "x=data.drop(\"price\",axis=1)\n",
    "y=data[\"price\"]"
   ]
  },
  {
   "cell_type": "code",
   "execution_count": 51,
   "id": "09202bd5-5bac-4a02-ab8b-19d249758b3e",
   "metadata": {},
   "outputs": [],
   "source": [
    "x_train,x_test,y_train,y_test=train_test_split(x,y,test_size=0.2,random_state=12)"
   ]
  },
  {
   "cell_type": "code",
   "execution_count": 52,
   "id": "dccec05e-7e0c-47be-a442-f112a320e9cc",
   "metadata": {},
   "outputs": [
    {
     "data": {
      "text/html": [
       "<style>#sk-container-id-2 {color: black;background-color: white;}#sk-container-id-2 pre{padding: 0;}#sk-container-id-2 div.sk-toggleable {background-color: white;}#sk-container-id-2 label.sk-toggleable__label {cursor: pointer;display: block;width: 100%;margin-bottom: 0;padding: 0.3em;box-sizing: border-box;text-align: center;}#sk-container-id-2 label.sk-toggleable__label-arrow:before {content: \"▸\";float: left;margin-right: 0.25em;color: #696969;}#sk-container-id-2 label.sk-toggleable__label-arrow:hover:before {color: black;}#sk-container-id-2 div.sk-estimator:hover label.sk-toggleable__label-arrow:before {color: black;}#sk-container-id-2 div.sk-toggleable__content {max-height: 0;max-width: 0;overflow: hidden;text-align: left;background-color: #f0f8ff;}#sk-container-id-2 div.sk-toggleable__content pre {margin: 0.2em;color: black;border-radius: 0.25em;background-color: #f0f8ff;}#sk-container-id-2 input.sk-toggleable__control:checked~div.sk-toggleable__content {max-height: 200px;max-width: 100%;overflow: auto;}#sk-container-id-2 input.sk-toggleable__control:checked~label.sk-toggleable__label-arrow:before {content: \"▾\";}#sk-container-id-2 div.sk-estimator input.sk-toggleable__control:checked~label.sk-toggleable__label {background-color: #d4ebff;}#sk-container-id-2 div.sk-label input.sk-toggleable__control:checked~label.sk-toggleable__label {background-color: #d4ebff;}#sk-container-id-2 input.sk-hidden--visually {border: 0;clip: rect(1px 1px 1px 1px);clip: rect(1px, 1px, 1px, 1px);height: 1px;margin: -1px;overflow: hidden;padding: 0;position: absolute;width: 1px;}#sk-container-id-2 div.sk-estimator {font-family: monospace;background-color: #f0f8ff;border: 1px dotted black;border-radius: 0.25em;box-sizing: border-box;margin-bottom: 0.5em;}#sk-container-id-2 div.sk-estimator:hover {background-color: #d4ebff;}#sk-container-id-2 div.sk-parallel-item::after {content: \"\";width: 100%;border-bottom: 1px solid gray;flex-grow: 1;}#sk-container-id-2 div.sk-label:hover label.sk-toggleable__label {background-color: #d4ebff;}#sk-container-id-2 div.sk-serial::before {content: \"\";position: absolute;border-left: 1px solid gray;box-sizing: border-box;top: 0;bottom: 0;left: 50%;z-index: 0;}#sk-container-id-2 div.sk-serial {display: flex;flex-direction: column;align-items: center;background-color: white;padding-right: 0.2em;padding-left: 0.2em;position: relative;}#sk-container-id-2 div.sk-item {position: relative;z-index: 1;}#sk-container-id-2 div.sk-parallel {display: flex;align-items: stretch;justify-content: center;background-color: white;position: relative;}#sk-container-id-2 div.sk-item::before, #sk-container-id-2 div.sk-parallel-item::before {content: \"\";position: absolute;border-left: 1px solid gray;box-sizing: border-box;top: 0;bottom: 0;left: 50%;z-index: -1;}#sk-container-id-2 div.sk-parallel-item {display: flex;flex-direction: column;z-index: 1;position: relative;background-color: white;}#sk-container-id-2 div.sk-parallel-item:first-child::after {align-self: flex-end;width: 50%;}#sk-container-id-2 div.sk-parallel-item:last-child::after {align-self: flex-start;width: 50%;}#sk-container-id-2 div.sk-parallel-item:only-child::after {width: 0;}#sk-container-id-2 div.sk-dashed-wrapped {border: 1px dashed gray;margin: 0 0.4em 0.5em 0.4em;box-sizing: border-box;padding-bottom: 0.4em;background-color: white;}#sk-container-id-2 div.sk-label label {font-family: monospace;font-weight: bold;display: inline-block;line-height: 1.2em;}#sk-container-id-2 div.sk-label-container {text-align: center;}#sk-container-id-2 div.sk-container {/* jupyter's `normalize.less` sets `[hidden] { display: none; }` but bootstrap.min.css set `[hidden] { display: none !important; }` so we also need the `!important` here to be able to override the default hidden behavior on the sphinx rendered scikit-learn.org. See: https://github.com/scikit-learn/scikit-learn/issues/21755 */display: inline-block !important;position: relative;}#sk-container-id-2 div.sk-text-repr-fallback {display: none;}</style><div id=\"sk-container-id-2\" class=\"sk-top-container\"><div class=\"sk-text-repr-fallback\"><pre>LinearRegression()</pre><b>In a Jupyter environment, please rerun this cell to show the HTML representation or trust the notebook. <br />On GitHub, the HTML representation is unable to render, please try loading this page with nbviewer.org.</b></div><div class=\"sk-container\" hidden><div class=\"sk-item\"><div class=\"sk-estimator sk-toggleable\"><input class=\"sk-toggleable__control sk-hidden--visually\" id=\"sk-estimator-id-2\" type=\"checkbox\" checked><label for=\"sk-estimator-id-2\" class=\"sk-toggleable__label sk-toggleable__label-arrow\">LinearRegression</label><div class=\"sk-toggleable__content\"><pre>LinearRegression()</pre></div></div></div></div></div>"
      ],
      "text/plain": [
       "LinearRegression()"
      ]
     },
     "execution_count": 52,
     "metadata": {},
     "output_type": "execute_result"
    }
   ],
   "source": [
    "model1=LinearRegression()\n",
    "model1.fit(x_train,y_train)"
   ]
  },
  {
   "cell_type": "code",
   "execution_count": 53,
   "id": "555e3aa7-fb76-4baa-bf6f-37526e4685c7",
   "metadata": {},
   "outputs": [
    {
     "data": {
      "text/plain": [
       "array([ 1.90508832e-01, -5.31094099e-02, -1.34442357e+01,  4.52539836e+00,\n",
       "        3.75572216e-03, -9.42416400e-01, -6.35213360e-02,  2.73619030e-01,\n",
       "       -1.47728770e-01,  6.19247359e-01, -7.02135810e-01,  6.81104236e-01,\n",
       "        3.45609297e-01,  1.56598865e-02,  4.10727023e-02,  1.87017397e-02,\n",
       "        0.00000000e+00,  5.04180370e+01])"
      ]
     },
     "execution_count": 53,
     "metadata": {},
     "output_type": "execute_result"
    }
   ],
   "source": [
    "model1.coef_"
   ]
  },
  {
   "cell_type": "code",
   "execution_count": 54,
   "id": "a50c764b-4980-49b9-9ff9-4788479d8a91",
   "metadata": {},
   "outputs": [
    {
     "data": {
      "text/plain": [
       "-5.040793695854251"
      ]
     },
     "execution_count": 54,
     "metadata": {},
     "output_type": "execute_result"
    }
   ],
   "source": [
    "model1.intercept_"
   ]
  },
  {
   "cell_type": "code",
   "execution_count": 55,
   "id": "3e112ab4-1689-41c0-b367-36174964e1d0",
   "metadata": {},
   "outputs": [
    {
     "data": {
      "text/plain": [
       "0.6946884667488936"
      ]
     },
     "execution_count": 55,
     "metadata": {},
     "output_type": "execute_result"
    }
   ],
   "source": [
    "model1.score(x_train,y_train)"
   ]
  },
  {
   "cell_type": "code",
   "execution_count": 56,
   "id": "a9010b09-7220-4641-9042-3da4cf06427b",
   "metadata": {},
   "outputs": [
    {
     "data": {
      "text/plain": [
       "0.659257620998544"
      ]
     },
     "execution_count": 56,
     "metadata": {},
     "output_type": "execute_result"
    }
   ],
   "source": [
    "model1.score(x_test,y_test)"
   ]
  },
  {
   "cell_type": "code",
   "execution_count": 57,
   "id": "aef0b8be-f0db-4663-966e-258f3eb0b10b",
   "metadata": {},
   "outputs": [],
   "source": [
    "y_pred=model1.predict(x_test)"
   ]
  },
  {
   "cell_type": "code",
   "execution_count": 48,
   "id": "e3365390-6207-4a2d-a75e-e0207634726d",
   "metadata": {},
   "outputs": [
    {
     "data": {
      "text/html": [
       "<div>\n",
       "<style scoped>\n",
       "    .dataframe tbody tr th:only-of-type {\n",
       "        vertical-align: middle;\n",
       "    }\n",
       "\n",
       "    .dataframe tbody tr th {\n",
       "        vertical-align: top;\n",
       "    }\n",
       "\n",
       "    .dataframe thead th {\n",
       "        text-align: right;\n",
       "    }\n",
       "</style>\n",
       "<table border=\"1\" class=\"dataframe\">\n",
       "  <thead>\n",
       "    <tr style=\"text-align: right;\">\n",
       "      <th></th>\n",
       "      <th>TrueValues</th>\n",
       "      <th>Predicted Values</th>\n",
       "    </tr>\n",
       "  </thead>\n",
       "  <tbody>\n",
       "    <tr>\n",
       "      <th>133</th>\n",
       "      <td>17.8</td>\n",
       "      <td>16.033910</td>\n",
       "    </tr>\n",
       "    <tr>\n",
       "      <th>376</th>\n",
       "      <td>21.2</td>\n",
       "      <td>21.615709</td>\n",
       "    </tr>\n",
       "    <tr>\n",
       "      <th>167</th>\n",
       "      <td>33.0</td>\n",
       "      <td>31.093397</td>\n",
       "    </tr>\n",
       "    <tr>\n",
       "      <th>276</th>\n",
       "      <td>23.8</td>\n",
       "      <td>27.832497</td>\n",
       "    </tr>\n",
       "    <tr>\n",
       "      <th>239</th>\n",
       "      <td>32.0</td>\n",
       "      <td>32.689486</td>\n",
       "    </tr>\n",
       "    <tr>\n",
       "      <th>...</th>\n",
       "      <td>...</td>\n",
       "      <td>...</td>\n",
       "    </tr>\n",
       "    <tr>\n",
       "      <th>155</th>\n",
       "      <td>23.2</td>\n",
       "      <td>26.071682</td>\n",
       "    </tr>\n",
       "    <tr>\n",
       "      <th>74</th>\n",
       "      <td>20.8</td>\n",
       "      <td>23.673145</td>\n",
       "    </tr>\n",
       "    <tr>\n",
       "      <th>356</th>\n",
       "      <td>16.4</td>\n",
       "      <td>19.058790</td>\n",
       "    </tr>\n",
       "    <tr>\n",
       "      <th>216</th>\n",
       "      <td>24.5</td>\n",
       "      <td>22.749681</td>\n",
       "    </tr>\n",
       "    <tr>\n",
       "      <th>115</th>\n",
       "      <td>22.0</td>\n",
       "      <td>19.070201</td>\n",
       "    </tr>\n",
       "  </tbody>\n",
       "</table>\n",
       "<p>80 rows × 2 columns</p>\n",
       "</div>"
      ],
      "text/plain": [
       "     TrueValues  Predicted Values\n",
       "133        17.8         16.033910\n",
       "376        21.2         21.615709\n",
       "167        33.0         31.093397\n",
       "276        23.8         27.832497\n",
       "239        32.0         32.689486\n",
       "..          ...               ...\n",
       "155        23.2         26.071682\n",
       "74         20.8         23.673145\n",
       "356        16.4         19.058790\n",
       "216        24.5         22.749681\n",
       "115        22.0         19.070201\n",
       "\n",
       "[80 rows x 2 columns]"
      ]
     },
     "execution_count": 48,
     "metadata": {},
     "output_type": "execute_result"
    }
   ],
   "source": [
    "pd.DataFrame({\"TrueValues\":y_test,\"Predicted Values\":y_pred})"
   ]
  },
  {
   "cell_type": "code",
   "execution_count": 49,
   "id": "77baa818-d7de-4205-91f3-df265270ae57",
   "metadata": {},
   "outputs": [
    {
     "data": {
      "text/plain": [
       "2.585490853325561"
      ]
     },
     "execution_count": 49,
     "metadata": {},
     "output_type": "execute_result"
    }
   ],
   "source": [
    "mean_absolute_error(y_test,y_pred)"
   ]
  },
  {
   "cell_type": "code",
   "execution_count": 50,
   "id": "ada57370-cec7-47dd-ae35-8a93f9af056b",
   "metadata": {},
   "outputs": [
    {
     "data": {
      "text/plain": [
       "10.298003840481048"
      ]
     },
     "execution_count": 50,
     "metadata": {},
     "output_type": "execute_result"
    }
   ],
   "source": [
    "mean_squared_error(y_test,y_pred)"
   ]
  },
  {
   "cell_type": "code",
   "execution_count": null,
   "id": "dc5694e5-8f44-48fd-a495-9f974891fc0b",
   "metadata": {},
   "outputs": [],
   "source": []
  }
 ],
 "metadata": {
  "kernelspec": {
   "display_name": "Python 3 (ipykernel)",
   "language": "python",
   "name": "python3"
  },
  "language_info": {
   "codemirror_mode": {
    "name": "ipython",
    "version": 3
   },
   "file_extension": ".py",
   "mimetype": "text/x-python",
   "name": "python",
   "nbconvert_exporter": "python",
   "pygments_lexer": "ipython3",
   "version": "3.11.5"
  }
 },
 "nbformat": 4,
 "nbformat_minor": 5
}
